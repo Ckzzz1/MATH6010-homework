{
 "cells": [
  {
   "cell_type": "code",
   "execution_count": 20,
   "metadata": {},
   "outputs": [],
   "source": [
    "from STS_HillClimbing import *\n",
    "import matplotlib.pyplot as plt\n",
    "import time"
   ]
  },
  {
   "cell_type": "markdown",
   "metadata": {},
   "source": [
    "STS(v) 构造规模测试"
   ]
  },
  {
   "cell_type": "code",
   "execution_count": 21,
   "metadata": {},
   "outputs": [
    {
     "name": "stderr",
     "output_type": "stream",
     "text": [
      "0it [00:00, ?it/s]\n",
      "0it [00:00, ?it/s]\n",
      "0it [00:00, ?it/s]\n",
      "0it [00:00, ?it/s]\n",
      "0it [00:00, ?it/s]\n",
      "0it [00:00, ?it/s]\n"
     ]
    },
    {
     "name": "stdout",
     "output_type": "stream",
     "text": [
      "Generated STS( 1 ), cost time: 0.010998010635375977 s\n"
     ]
    },
    {
     "name": "stderr",
     "output_type": "stream",
     "text": [
      "100%|██████████| 1/1.0 [00:00<?, ?it/s]\n",
      "100%|██████████| 1/1.0 [00:00<?, ?it/s]\n",
      "100%|██████████| 1/1.0 [00:00<?, ?it/s]\n",
      "100%|██████████| 1/1.0 [00:00<?, ?it/s]\n",
      "100%|██████████| 1/1.0 [00:00<?, ?it/s]\n",
      "100%|██████████| 1/1.0 [00:00<?, ?it/s]\n"
     ]
    },
    {
     "name": "stdout",
     "output_type": "stream",
     "text": [
      "Generated STS( 3 ), cost time: 0.01299905776977539 s\n"
     ]
    },
    {
     "name": "stderr",
     "output_type": "stream",
     "text": [
      "100%|██████████| 7/7.0 [00:00<00:00, 6983.86it/s]\n",
      "100%|██████████| 7/7.0 [00:00<?, ?it/s]\n",
      "100%|██████████| 7/7.0 [00:00<00:00, 6988.84it/s]\n",
      "100%|██████████| 7/7.0 [00:00<?, ?it/s]\n",
      "100%|██████████| 7/7.0 [00:00<?, ?it/s]\n",
      "100%|██████████| 7/7.0 [00:00<00:00, 6997.17it/s]\n"
     ]
    },
    {
     "name": "stdout",
     "output_type": "stream",
     "text": [
      "Generated STS( 7 ), cost time: 0.013000249862670898 s\n"
     ]
    },
    {
     "name": "stderr",
     "output_type": "stream",
     "text": [
      "100%|██████████| 12/12.0 [00:00<00:00, 11983.73it/s]\n",
      "100%|██████████| 12/12.0 [00:00<00:00, 12012.33it/s]\n",
      "100%|██████████| 12/12.0 [00:00<00:00, 11972.32it/s]\n",
      "100%|██████████| 12/12.0 [00:00<00:00, 12006.60it/s]\n",
      "100%|██████████| 12/12.0 [00:00<00:00, 6001.15it/s]\n",
      "100%|██████████| 12/12.0 [00:00<00:00, 5999.00it/s]\n"
     ]
    },
    {
     "name": "stdout",
     "output_type": "stream",
     "text": [
      "Generated STS( 9 ), cost time: 0.018000364303588867 s\n"
     ]
    },
    {
     "name": "stderr",
     "output_type": "stream",
     "text": [
      "100%|██████████| 26/26.0 [00:00<00:00, 3714.18it/s]\n",
      "100%|██████████| 26/26.0 [00:00<00:00, 2600.06it/s]\n",
      "100%|██████████| 26/26.0 [00:00<00:00, 2599.75it/s]\n",
      "100%|██████████| 26/26.0 [00:00<00:00, 2889.48it/s]\n",
      "100%|██████████| 26/26.0 [00:00<00:00, 1733.43it/s]\n",
      "100%|██████████| 26/26.0 [00:00<00:00, 2888.95it/s]\n"
     ]
    },
    {
     "name": "stdout",
     "output_type": "stream",
     "text": [
      "Generated STS( 13 ), cost time: 0.07199835777282715 s\n"
     ]
    },
    {
     "name": "stderr",
     "output_type": "stream",
     "text": [
      "100%|██████████| 35/35.0 [00:00<00:00, 2692.50it/s]\n",
      "100%|██████████| 35/35.0 [00:00<00:00, 1944.48it/s]\n",
      "100%|██████████| 35/35.0 [00:00<00:00, 4999.34it/s]\n",
      "100%|██████████| 35/35.0 [00:00<00:00, 2187.63it/s]\n",
      "100%|██████████| 35/35.0 [00:00<00:00, 2692.40it/s]\n",
      "100%|██████████| 35/35.0 [00:00<00:00, 2333.21it/s]\n"
     ]
    },
    {
     "name": "stdout",
     "output_type": "stream",
     "text": [
      "Generated STS( 15 ), cost time: 0.09300088882446289 s\n"
     ]
    },
    {
     "name": "stderr",
     "output_type": "stream",
     "text": [
      "100%|██████████| 57/57.0 [00:00<00:00, 1900.08it/s]\n",
      "100%|██████████| 57/57.0 [00:00<00:00, 2849.83it/s]\n",
      "100%|██████████| 57/57.0 [00:00<00:00, 1239.18it/s]\n",
      "100%|██████████| 57/57.0 [00:00<00:00, 1266.61it/s]\n",
      "100%|██████████| 57/57.0 [00:00<00:00, 1965.51it/s]\n",
      "100%|██████████| 57/57.0 [00:00<00:00, 1995.12it/s]\n"
     ]
    },
    {
     "name": "stdout",
     "output_type": "stream",
     "text": [
      "Generated STS( 19 ), cost time: 0.20957064628601074 s\n"
     ]
    },
    {
     "name": "stderr",
     "output_type": "stream",
     "text": [
      "100%|██████████| 70/70.0 [00:00<00:00, 818.17it/s]\n",
      "100%|██████████| 70/70.0 [00:00<00:00, 1228.05it/s]\n",
      "100%|██████████| 70/70.0 [00:00<00:00, 707.07it/s]\n",
      "100%|██████████| 70/70.0 [00:00<00:00, 1129.02it/s]\n",
      "100%|██████████| 70/70.0 [00:00<00:00, 921.06it/s]\n",
      "100%|██████████| 70/70.0 [00:00<00:00, 853.65it/s]\n"
     ]
    },
    {
     "name": "stdout",
     "output_type": "stream",
     "text": [
      "Generated STS( 21 ), cost time: 0.47257137298583984 s\n"
     ]
    },
    {
     "name": "stderr",
     "output_type": "stream",
     "text": [
      "100%|██████████| 100/100.0 [00:00<00:00, 704.23it/s]\n",
      "100%|██████████| 100/100.0 [00:00<00:00, 684.94it/s]\n",
      "100%|██████████| 100/100.0 [00:00<00:00, 641.03it/s]\n",
      "100%|██████████| 100/100.0 [00:00<00:00, 1003.98it/s]\n",
      "100%|██████████| 100/100.0 [00:00<00:00, 879.97it/s]\n",
      "100%|██████████| 100/100.0 [00:00<00:00, 1010.12it/s]\n"
     ]
    },
    {
     "name": "stdout",
     "output_type": "stream",
     "text": [
      "Generated STS( 25 ), cost time: 0.7682428359985352 s\n"
     ]
    },
    {
     "name": "stderr",
     "output_type": "stream",
     "text": [
      "100%|██████████| 117/117.0 [00:00<00:00, 754.84it/s]\n",
      "100%|██████████| 117/117.0 [00:00<00:00, 414.89it/s] \n",
      "100%|██████████| 117/117.0 [00:00<00:00, 443.19it/s] \n",
      "100%|██████████| 117/117.0 [00:00<00:00, 905.63it/s]\n",
      "100%|██████████| 117/117.0 [00:00<00:00, 517.67it/s]\n",
      "100%|██████████| 117/117.0 [00:00<00:00, 688.22it/s]\n"
     ]
    },
    {
     "name": "stdout",
     "output_type": "stream",
     "text": [
      "Generated STS( 27 ), cost time: 1.2382025718688965 s\n"
     ]
    },
    {
     "name": "stderr",
     "output_type": "stream",
     "text": [
      "100%|██████████| 155/155.0 [00:00<00:00, 578.36it/s] \n",
      "100%|██████████| 155/155.0 [00:00<00:00, 565.36it/s] \n",
      "100%|██████████| 155/155.0 [00:00<00:00, 620.97it/s] \n",
      "100%|██████████| 155/155.0 [00:00<00:00, 426.91it/s] \n",
      "100%|██████████| 155/155.0 [00:00<00:00, 726.93it/s] \n",
      "100%|██████████| 155/155.0 [00:00<00:00, 776.66it/s] \n"
     ]
    },
    {
     "name": "stdout",
     "output_type": "stream",
     "text": [
      "Generated STS( 31 ), cost time: 1.579643726348877 s\n"
     ]
    },
    {
     "name": "stderr",
     "output_type": "stream",
     "text": [
      "100%|██████████| 176/176.0 [00:00<00:00, 409.06it/s] \n",
      "100%|██████████| 176/176.0 [00:00<00:00, 230.68it/s] \n",
      "100%|██████████| 176/176.0 [00:00<00:00, 551.73it/s] \n",
      "100%|██████████| 176/176.0 [00:00<00:00, 447.84it/s] \n",
      "100%|██████████| 176/176.0 [00:00<00:00, 668.74it/s] \n",
      "100%|██████████| 176/176.0 [00:00<00:00, 381.78it/s] \n"
     ]
    },
    {
     "name": "stdout",
     "output_type": "stream",
     "text": [
      "Generated STS( 33 ), cost time: 2.639397621154785 s\n"
     ]
    },
    {
     "name": "stderr",
     "output_type": "stream",
     "text": [
      "100%|██████████| 222/222.0 [00:00<00:00, 352.29it/s] \n",
      "100%|██████████| 222/222.0 [00:00<00:00, 299.37it/s] \n",
      "100%|██████████| 222/222.0 [00:00<00:00, 560.59it/s] \n",
      "100%|██████████| 222/222.0 [00:00<00:00, 388.39it/s] \n",
      "100%|██████████| 222/222.0 [00:00<00:00, 238.08it/s] \n",
      "100%|██████████| 222/222.0 [00:00<00:00, 320.72it/s] \n"
     ]
    },
    {
     "name": "stdout",
     "output_type": "stream",
     "text": [
      "Generated STS( 37 ), cost time: 3.9745657444000244 s\n"
     ]
    },
    {
     "name": "stderr",
     "output_type": "stream",
     "text": [
      "100%|██████████| 247/247.0 [00:00<00:00, 418.95it/s] \n",
      "100%|██████████| 247/247.0 [00:00<00:00, 277.18it/s] \n",
      "100%|██████████| 247/247.0 [00:00<00:00, 294.90it/s] \n",
      "100%|██████████| 247/247.0 [00:00<00:00, 317.65it/s] \n",
      "100%|██████████| 247/247.0 [00:00<00:00, 331.37it/s] \n",
      "100%|██████████| 247/247.0 [00:00<00:00, 352.95it/s] \n"
     ]
    },
    {
     "name": "stdout",
     "output_type": "stream",
     "text": [
      "Generated STS( 39 ), cost time: 4.553070783615112 s\n"
     ]
    },
    {
     "name": "stderr",
     "output_type": "stream",
     "text": [
      "100%|██████████| 301/301.0 [00:00<00:00, 369.50it/s]\n",
      "100%|██████████| 301/301.0 [00:00<00:00, 311.88it/s]\n",
      "100%|██████████| 301/301.0 [00:01<00:00, 207.90it/s]\n",
      "100%|██████████| 301/301.0 [00:00<00:00, 402.85it/s]\n",
      "100%|██████████| 301/301.0 [00:01<00:00, 198.39it/s]\n",
      "100%|██████████| 301/301.0 [00:01<00:00, 187.38it/s]\n"
     ]
    },
    {
     "name": "stdout",
     "output_type": "stream",
     "text": [
      "Generated STS( 43 ), cost time: 7.110243082046509 s\n"
     ]
    },
    {
     "name": "stderr",
     "output_type": "stream",
     "text": [
      "100%|██████████| 330/330.0 [00:01<00:00, 202.43it/s]\n",
      "100%|██████████| 330/330.0 [00:01<00:00, 196.14it/s]\n",
      "100%|██████████| 330/330.0 [00:01<00:00, 215.25it/s]\n",
      "100%|██████████| 330/330.0 [00:02<00:00, 164.77it/s]\n",
      "100%|██████████| 330/330.0 [00:01<00:00, 214.44it/s]\n",
      "100%|██████████| 330/330.0 [00:01<00:00, 205.87it/s]\n"
     ]
    },
    {
     "name": "stdout",
     "output_type": "stream",
     "text": [
      "Generated STS( 45 ), cost time: 10.001327991485596 s\n"
     ]
    },
    {
     "name": "stderr",
     "output_type": "stream",
     "text": [
      "100%|██████████| 392/392.0 [00:01<00:00, 202.75it/s]\n",
      "100%|██████████| 392/392.0 [00:01<00:00, 224.39it/s]\n",
      "100%|██████████| 392/392.0 [00:01<00:00, 249.30it/s]\n",
      "100%|██████████| 392/392.0 [00:01<00:00, 212.22it/s]\n",
      "100%|██████████| 392/392.0 [00:02<00:00, 188.31it/s]\n",
      "100%|██████████| 392/392.0 [00:02<00:00, 183.98it/s]\n"
     ]
    },
    {
     "name": "stdout",
     "output_type": "stream",
     "text": [
      "Generated STS( 49 ), cost time: 11.324573755264282 s\n"
     ]
    },
    {
     "name": "stderr",
     "output_type": "stream",
     "text": [
      "100%|██████████| 425/425.0 [00:02<00:00, 188.76it/s]\n",
      "100%|██████████| 425/425.0 [00:02<00:00, 154.08it/s]\n",
      "100%|██████████| 425/425.0 [00:04<00:00, 104.08it/s]\n",
      "100%|██████████| 425/425.0 [00:02<00:00, 191.96it/s]\n",
      "100%|██████████| 425/425.0 [00:02<00:00, 159.80it/s]\n",
      "100%|██████████| 425/425.0 [00:01<00:00, 233.44it/s]\n"
     ]
    },
    {
     "name": "stdout",
     "output_type": "stream",
     "text": [
      "Generated STS( 51 ), cost time: 15.798578977584839 s\n"
     ]
    },
    {
     "name": "stderr",
     "output_type": "stream",
     "text": [
      "100%|██████████| 495/495.0 [00:03<00:00, 124.89it/s]\n",
      "100%|██████████| 495/495.0 [00:03<00:00, 158.72it/s]\n",
      "100%|██████████| 495/495.0 [00:02<00:00, 167.70it/s]\n",
      "100%|██████████| 495/495.0 [00:03<00:00, 152.85it/s]\n",
      "100%|██████████| 495/495.0 [00:03<00:00, 145.00it/s]\n",
      "100%|██████████| 495/495.0 [00:02<00:00, 168.64it/s]\n"
     ]
    },
    {
     "name": "stdout",
     "output_type": "stream",
     "text": [
      "Generated STS( 55 ), cost time: 19.631467580795288 s\n"
     ]
    },
    {
     "name": "stderr",
     "output_type": "stream",
     "text": [
      "100%|██████████| 532/532.0 [00:03<00:00, 156.47it/s]\n",
      "100%|██████████| 532/532.0 [00:03<00:00, 144.97it/s]\n",
      "100%|██████████| 532/532.0 [00:03<00:00, 167.43it/s]\n",
      "100%|██████████| 532/532.0 [00:03<00:00, 137.91it/s]\n",
      "100%|██████████| 532/532.0 [00:03<00:00, 169.94it/s]\n",
      "100%|██████████| 532/532.0 [00:04<00:00, 112.42it/s]\n"
     ]
    },
    {
     "name": "stdout",
     "output_type": "stream",
     "text": [
      "Generated STS( 57 ), cost time: 21.98126769065857 s\n"
     ]
    },
    {
     "name": "stderr",
     "output_type": "stream",
     "text": [
      "100%|██████████| 610/610.0 [00:04<00:00, 122.84it/s]\n",
      "100%|██████████| 610/610.0 [00:05<00:00, 116.23it/s]\n",
      "100%|██████████| 610/610.0 [00:04<00:00, 141.52it/s]\n",
      "100%|██████████| 610/610.0 [00:05<00:00, 110.99it/s]\n",
      "100%|██████████| 610/610.0 [00:05<00:00, 118.88it/s]\n",
      "100%|██████████| 610/610.0 [00:04<00:00, 140.34it/s]\n"
     ]
    },
    {
     "name": "stdout",
     "output_type": "stream",
     "text": [
      "Generated STS( 61 ), cost time: 29.510838985443115 s\n"
     ]
    },
    {
     "name": "stderr",
     "output_type": "stream",
     "text": [
      "100%|██████████| 651/651.0 [00:04<00:00, 149.62it/s]\n",
      "100%|██████████| 651/651.0 [00:05<00:00, 129.70it/s]\n",
      "100%|██████████| 651/651.0 [00:05<00:00, 111.99it/s]\n",
      "100%|██████████| 651/651.0 [00:04<00:00, 133.54it/s]\n",
      "100%|██████████| 651/651.0 [00:05<00:00, 127.69it/s]\n",
      "100%|██████████| 651/651.0 [00:05<00:00, 125.30it/s]\n"
     ]
    },
    {
     "name": "stdout",
     "output_type": "stream",
     "text": [
      "Generated STS( 63 ), cost time: 30.3651704788208 s\n"
     ]
    },
    {
     "name": "stderr",
     "output_type": "stream",
     "text": [
      "100%|██████████| 737/737.0 [00:08<00:00, 91.13it/s] \n",
      "100%|██████████| 737/737.0 [00:06<00:00, 118.54it/s]\n",
      "100%|██████████| 737/737.0 [00:05<00:00, 124.89it/s]\n",
      "100%|██████████| 737/737.0 [00:06<00:00, 119.51it/s]\n",
      "100%|██████████| 737/737.0 [00:07<00:00, 103.00it/s]\n",
      "100%|██████████| 737/737.0 [00:05<00:00, 131.25it/s]\n"
     ]
    },
    {
     "name": "stdout",
     "output_type": "stream",
     "text": [
      "Generated STS( 67 ), cost time: 39.1555335521698 s\n"
     ]
    },
    {
     "name": "stderr",
     "output_type": "stream",
     "text": [
      "100%|██████████| 782/782.0 [00:07<00:00, 105.95it/s]\n",
      "100%|██████████| 782/782.0 [00:07<00:00, 103.35it/s]\n",
      "100%|██████████| 782/782.0 [00:08<00:00, 95.82it/s] \n",
      "100%|██████████| 782/782.0 [00:09<00:00, 83.19it/s] \n",
      "100%|██████████| 782/782.0 [00:06<00:00, 117.06it/s]\n",
      "100%|██████████| 782/782.0 [00:07<00:00, 107.19it/s]\n"
     ]
    },
    {
     "name": "stdout",
     "output_type": "stream",
     "text": [
      "Generated STS( 69 ), cost time: 46.49810266494751 s\n"
     ]
    },
    {
     "name": "stderr",
     "output_type": "stream",
     "text": [
      "100%|██████████| 876/876.0 [00:08<00:00, 99.00it/s] \n",
      "100%|██████████| 876/876.0 [00:11<00:00, 76.62it/s] \n",
      "100%|██████████| 876/876.0 [00:10<00:00, 80.89it/s] \n",
      "100%|██████████| 876/876.0 [00:09<00:00, 94.32it/s] \n",
      "100%|██████████| 876/876.0 [00:07<00:00, 115.11it/s]\n",
      "100%|██████████| 876/876.0 [00:09<00:00, 92.80it/s] \n"
     ]
    },
    {
     "name": "stdout",
     "output_type": "stream",
     "text": [
      "Generated STS( 73 ), cost time: 57.46061944961548 s\n"
     ]
    },
    {
     "name": "stderr",
     "output_type": "stream",
     "text": [
      "100%|██████████| 925/925.0 [00:11<00:00, 83.85it/s] \n",
      "100%|██████████| 925/925.0 [00:13<00:00, 68.69it/s] \n",
      "100%|██████████| 925/925.0 [00:12<00:00, 75.81it/s] \n",
      "100%|██████████| 925/925.0 [00:11<00:00, 77.54it/s] \n",
      "100%|██████████| 925/925.0 [00:13<00:00, 70.04it/s] \n",
      "100%|██████████| 925/925.0 [00:10<00:00, 90.08it/s] \n"
     ]
    },
    {
     "name": "stdout",
     "output_type": "stream",
     "text": [
      "Generated STS( 75 ), cost time: 72.1178469657898 s\n"
     ]
    },
    {
     "name": "stderr",
     "output_type": "stream",
     "text": [
      "100%|██████████| 1027/1027.0 [00:14<00:00, 69.77it/s]\n",
      "100%|██████████| 1027/1027.0 [00:13<00:00, 77.27it/s]\n",
      "100%|██████████| 1027/1027.0 [00:15<00:00, 67.80it/s]\n",
      "100%|██████████| 1027/1027.0 [00:14<00:00, 71.20it/s]\n",
      "100%|██████████| 1027/1027.0 [00:14<00:00, 69.47it/s]\n",
      "100%|██████████| 1027/1027.0 [00:14<00:00, 69.95it/s]\n"
     ]
    },
    {
     "name": "stdout",
     "output_type": "stream",
     "text": [
      "Generated STS( 79 ), cost time: 87.05905866622925 s\n"
     ]
    },
    {
     "name": "stderr",
     "output_type": "stream",
     "text": [
      "100%|██████████| 1080/1080.0 [00:16<00:00, 65.99it/s] \n",
      "100%|██████████| 1080/1080.0 [00:12<00:00, 86.85it/s] \n",
      "100%|██████████| 1080/1080.0 [00:12<00:00, 83.14it/s] \n",
      "100%|██████████| 1080/1080.0 [00:14<00:00, 73.21it/s] \n",
      "100%|██████████| 1080/1080.0 [00:13<00:00, 78.13it/s] \n",
      "100%|██████████| 1080/1080.0 [00:16<00:00, 66.40it/s] \n"
     ]
    },
    {
     "name": "stdout",
     "output_type": "stream",
     "text": [
      "Generated STS( 81 ), cost time: 86.6508777141571 s\n"
     ]
    },
    {
     "name": "stderr",
     "output_type": "stream",
     "text": [
      "100%|██████████| 1190/1190.0 [00:23<00:00, 50.69it/s] \n",
      "100%|██████████| 1190/1190.0 [00:22<00:00, 53.33it/s] \n",
      "100%|██████████| 1190/1190.0 [00:17<00:00, 67.95it/s] \n",
      "100%|██████████| 1190/1190.0 [00:20<00:00, 57.54it/s] \n",
      "100%|██████████| 1190/1190.0 [00:24<00:00, 49.55it/s] \n",
      "100%|██████████| 1190/1190.0 [00:19<00:00, 60.24it/s] \n"
     ]
    },
    {
     "name": "stdout",
     "output_type": "stream",
     "text": [
      "Generated STS( 85 ), cost time: 127.772043466568 s\n"
     ]
    },
    {
     "name": "stderr",
     "output_type": "stream",
     "text": [
      "100%|██████████| 1247/1247.0 [00:25<00:00, 49.33it/s] \n",
      "100%|██████████| 1247/1247.0 [00:22<00:00, 55.89it/s] \n",
      "100%|██████████| 1247/1247.0 [00:23<00:00, 52.36it/s] \n",
      "100%|██████████| 1247/1247.0 [00:20<00:00, 59.61it/s] \n",
      "100%|██████████| 1247/1247.0 [00:18<00:00, 68.73it/s] \n",
      "100%|██████████| 1247/1247.0 [00:21<00:00, 59.35it/s] \n"
     ]
    },
    {
     "name": "stdout",
     "output_type": "stream",
     "text": [
      "Generated STS( 87 ), cost time: 131.49642157554626 s\n"
     ]
    },
    {
     "name": "stderr",
     "output_type": "stream",
     "text": [
      "100%|██████████| 1365/1365.0 [00:27<00:00, 49.54it/s] \n",
      "100%|██████████| 1365/1365.0 [00:27<00:00, 50.31it/s] \n",
      "100%|██████████| 1365/1365.0 [00:35<00:00, 38.65it/s] \n",
      "100%|██████████| 1365/1365.0 [00:23<00:00, 59.18it/s] \n",
      "100%|██████████| 1365/1365.0 [00:28<00:00, 48.08it/s] \n",
      "100%|██████████| 1365/1365.0 [00:25<00:00, 53.05it/s] \n"
     ]
    },
    {
     "name": "stdout",
     "output_type": "stream",
     "text": [
      "Generated STS( 91 ), cost time: 167.2137598991394 s\n"
     ]
    },
    {
     "name": "stderr",
     "output_type": "stream",
     "text": [
      "100%|██████████| 1426/1426.0 [00:25<00:00, 55.02it/s]\n",
      "100%|██████████| 1426/1426.0 [00:37<00:00, 37.93it/s] \n",
      "100%|██████████| 1426/1426.0 [00:34<00:00, 40.81it/s]\n",
      "100%|██████████| 1426/1426.0 [00:28<00:00, 49.54it/s] \n",
      "100%|██████████| 1426/1426.0 [00:28<00:00, 49.61it/s] \n",
      "100%|██████████| 1426/1426.0 [00:32<00:00, 44.11it/s]\n"
     ]
    },
    {
     "name": "stdout",
     "output_type": "stream",
     "text": [
      "Generated STS( 93 ), cost time: 188.332181930542 s\n"
     ]
    },
    {
     "name": "stderr",
     "output_type": "stream",
     "text": [
      "100%|██████████| 1552/1552.0 [00:36<00:00, 42.47it/s]\n",
      "100%|██████████| 1552/1552.0 [00:34<00:00, 44.35it/s]\n",
      "100%|██████████| 1552/1552.0 [00:32<00:00, 48.18it/s]\n",
      "100%|██████████| 1552/1552.0 [00:38<00:00, 40.50it/s]\n",
      "100%|██████████| 1552/1552.0 [00:30<00:00, 51.73it/s]\n",
      "100%|██████████| 1552/1552.0 [00:37<00:00, 41.41it/s]\n"
     ]
    },
    {
     "name": "stdout",
     "output_type": "stream",
     "text": [
      "Generated STS( 97 ), cost time: 209.56350135803223 s\n"
     ]
    },
    {
     "name": "stderr",
     "output_type": "stream",
     "text": [
      "100%|██████████| 1617/1617.0 [00:38<00:00, 42.01it/s]\n",
      "100%|██████████| 1617/1617.0 [00:31<00:00, 51.50it/s]\n",
      "100%|██████████| 1617/1617.0 [00:35<00:00, 46.18it/s]\n",
      "100%|██████████| 1617/1617.0 [00:42<00:00, 37.74it/s]\n",
      "100%|██████████| 1617/1617.0 [00:36<00:00, 44.80it/s]\n",
      "100%|██████████| 1617/1617.0 [00:34<00:00, 46.44it/s]"
     ]
    },
    {
     "name": "stdout",
     "output_type": "stream",
     "text": [
      "Generated STS( 99 ), cost time: 218.6766221523285 s\n"
     ]
    },
    {
     "name": "stderr",
     "output_type": "stream",
     "text": [
      "\n"
     ]
    }
   ],
   "source": [
    "size_time = {}\n",
    "average_sample = 6\n",
    "for i in range(100):\n",
    "    if i % 6 == 1 or i % 6 == 3:\n",
    "        t0 = time.time()\n",
    "        for j in range(average_sample):\n",
    "            graph = STS(i)\n",
    "        t1 = time.time()\n",
    "        size_time[i] = (t1-t0)/average_sample\n",
    "        print(\"Generated STS(\", i, \"), average cost time:\", size_time[i], \"s\")"
   ]
  },
  {
   "cell_type": "code",
   "execution_count": 39,
   "metadata": {},
   "outputs": [
    {
     "data": {
      "text/plain": [
       "Text(0.5, 1.0, '$\\\\bf{Hill-Climbing\\\\ Algorithm\\\\ to\\\\ construct\\\\ STS(v)}$\\n Size / Time Consumption')"
      ]
     },
     "execution_count": 39,
     "metadata": {},
     "output_type": "execute_result"
    },
    {
     "data": {
      "image/jpeg": "[encoded data removed]",
      "text/plain": [
       "<Figure size 1500x750 with 1 Axes>"
      ]
     },
     "metadata": {
      "needs_background": "light"
     },
     "output_type": "display_data"
    }
   ],
   "source": [
    "# %config InlineBackend.figure_format = \"svg\"\n",
    "plt.figure(dpi=150, figsize=(10,5))\n",
    "plt.plot(size_time.keys(), size_time.values(), '.-')\n",
    "plt.xlabel('Size of Nodes')\n",
    "plt.ylabel('Time/s')\n",
    "plt.title(r'$\\bf{Hill-Climbing\\ Algorithm\\ to\\ construct\\ STS(v)}$' + '\\n Size / Time Consumption')"
   ]
  }
 ],
 "metadata": {
  "interpreter": {
   "hash": "98ae287a306360ff83e28cf3c6b2c220ddc20298bb8c7f4c681930f7e3dbb953"
  },
  "kernelspec": {
   "display_name": "Python 3.9.7 ('graphtheory')",
   "language": "python",
   "name": "python3"
  },
  "language_info": {
   "codemirror_mode": {
    "name": "ipython",
    "version": 3
   },
   "file_extension": ".py",
   "mimetype": "text/x-python",
   "name": "python",
   "nbconvert_exporter": "python",
   "pygments_lexer": "ipython3",
   "version": "3.9.7"
  },
  "orig_nbformat": 4
 },
 "nbformat": 4,
 "nbformat_minor": 2
}
